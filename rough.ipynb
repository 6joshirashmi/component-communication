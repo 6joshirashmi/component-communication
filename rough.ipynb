{
 "cells": [
  {
   "cell_type": "code",
   "execution_count": 1,
   "metadata": {},
   "outputs": [],
   "source": [
    "def get_user_input():\n",
    "    user_input =input()\n",
    "    mat_list = [int(i) for i in user_input.split(',')]\n",
    "    print(mat_list)\n",
    "    return mat_list\n",
    "get_user_input()"
   ]
  },
  {
   "cell_type": "code",
   "execution_count": null,
   "metadata": {},
   "outputs": [],
   "source": [
    "import math\n",
    "def print_mat_and_get_summ(mat):\n",
    "    square_mat_dimention = math.sqrt(len(mat))\n",
    "    if square_mat_dimention != int(square_mat_dimention):\n",
    "        print(\"not a square matrics\")\n",
    "        return 0\n",
    "        # total_numeber_of_row = int(input(\"please enter number of rows\"))\n",
    "    \n",
    "    mat_position = 0\n",
    "    row_summs =  []\n",
    "    for i in range(square_mat_dimention):\n",
    "        summ = 0\n",
    "        for j in range(square_mat_dimention):\n",
    "            print(mat[mat_position])\n",
    "            summ = summ + mat[mat_position]\n",
    "            mat_position = mat_position +1\n",
    "        row_summs.append(summ)\n",
    "\n",
    "mat([1,2,3,4])\n",
    "print_mat_and_get_summ(mat)"
   ]
  }
 ],
 "metadata": {
  "kernelspec": {
   "display_name": "Python 3",
   "language": "python",
   "name": "python3"
  },
  "language_info": {
   "codemirror_mode": {
    "name": "ipython",
    "version": 3
   },
   "file_extension": ".py",
   "mimetype": "text/x-python",
   "name": "python",
   "nbconvert_exporter": "python",
   "pygments_lexer": "ipython3",
   "version": "3.11.9"
  }
 },
 "nbformat": 4,
 "nbformat_minor": 2
}
